{
 "cells": [
  {
   "cell_type": "markdown",
   "metadata": {},
   "source": [
    "# Inaugural Project"
   ]
  },
  {
   "cell_type": "markdown",
   "metadata": {},
   "source": [
    "Import and set magics:"
   ]
  },
  {
   "cell_type": "code",
   "execution_count": 2,
   "metadata": {},
   "outputs": [],
   "source": [
    "import numpy as np\n",
    "from scipy import optimize\n",
    "import matplotlib.pyplot as plt"
   ]
  },
  {
   "cell_type": "markdown",
   "metadata": {},
   "source": [
    "## Question 1"
   ]
  },
  {
   "cell_type": "markdown",
   "metadata": {},
   "source": [
    "First of all we begin this project by importing the packages that we will use. The parameter values are then defined as given in the project describtion. We solve the maximization problem given the parameter values. The optimal level of consumption and labor are c = 1.24 and l = 0.40 which gives us a utility of 0.17."
   ]
  },
  {
   "cell_type": "code",
   "execution_count": 23,
   "metadata": {},
   "outputs": [
    {
     "name": "stdout",
     "output_type": "stream",
     "text": [
      "c = 1.24\n",
      "l = 0.40\n",
      "u = 0.17\n"
     ]
    }
   ],
   "source": [
    "# First the initial variables that are subject to change are defined\n",
    "w = 1\n",
    "e = 0.3\n",
    "\n",
    "# The fixed parameter values are\n",
    "m = 1\n",
    "v = 10\n",
    "t0 = 0.4\n",
    "t1 = 0.1\n",
    "k = 0.4\n",
    "\n",
    "# Now we construct the functions\n",
    "def c_star(w,l,m,t0,t1,k):\n",
    "    return m+w*l-(t0*w*l+t1*max(w*l-k,0))\n",
    "\n",
    "def u_star(c,l,v,e):\n",
    "    return np.log(c)-v*l**(1+1/e)/(1+1/e)\n",
    "\n",
    "# Objective function\n",
    "def value_of_choice(l,v,e):\n",
    "    c = c_star(w,l,m,t0,t1,k)\n",
    "    return -u_star(c,l,v,e)\n",
    "\n",
    "# Call solver\n",
    "sol_case1 = optimize.minimize_scalar(\n",
    "    value_of_choice,method='bounded',\n",
    "    bounds=(0,1),args=(v,e))\n",
    "\n",
    "# Unpack solution\n",
    "l = sol_case1.x\n",
    "c = c_star(w,l,m,t0,t1,k)\n",
    "u = u_star(c,l,v,e)\n",
    "\n",
    "# Print solutions\n",
    "def print_solution(c,l,u):\n",
    "    print(f'c = {c:0.2f}')\n",
    "    print(f'l = {l:0.2f}')\n",
    "    print(f'u = {u:0.2f}')\n",
    "    \n",
    "print_solution(c,l,u)"
   ]
  },
  {
   "cell_type": "markdown",
   "metadata": {},
   "source": [
    "## Question 2"
   ]
  },
  {
   "cell_type": "markdown",
   "metadata": {},
   "source": [
    "I this question we want to show consumption and labor as functions of wage. Overall both consumption and labor are increasing in wages which is what we expected beforehand. "
   ]
  },
  {
   "cell_type": "code",
   "execution_count": 24,
   "metadata": {},
   "outputs": [
    {
     "data": {
      "image/png": "[encoded data removed]",
      "text/plain": [
       "<Figure size 720x288 with 2 Axes>"
      ]
     },
     "metadata": {},
     "output_type": "display_data"
    }
   ],
   "source": [
    "# Optimal choice as function of wage\n",
    "l_val = []\n",
    "c_val = []\n",
    "w_val = []\n",
    "\n",
    "for i in np.linspace(0.5,1.5,100):\n",
    "    w = i\n",
    "\n",
    "    sol_case1 = optimize.minimize_scalar(value_of_choice,\n",
    "    method='bounded',\n",
    "    bounds=(0,1),args=(v,e))\n",
    "    \n",
    "    w_val.append(i)\n",
    "    l_val.append(sol_case1.x)\n",
    "    c_val.append(c_star(sol_case1.x,i,m,t0,t1,k))\n",
    "\n",
    "\n",
    "c_val\n",
    "l_val\n",
    "w_val\n",
    "\n",
    "# Figure\n",
    "\n",
    "plt.style.use(\"seaborn\")\n",
    "\n",
    "# Creating the figure\n",
    "fig = plt.figure(figsize=(10,4))\n",
    "\n",
    "# The left plot\n",
    "ax_left = fig.add_subplot(1,2,1)\n",
    "\n",
    "ax_left.plot(w_val,l_val)\n",
    "\n",
    "ax_left.set_title('Optimal l given w')\n",
    "ax_left.set_xlabel('w')\n",
    "ax_left.set_ylabel('l')\n",
    "ax_left.grid(True)\n",
    "\n",
    "# The right plot\n",
    "ax_right = fig.add_subplot(1,2,2)\n",
    "\n",
    "ax_right.plot(w_val,c_val)\n",
    "\n",
    "ax_right.set_title('Optimal c given w')\n",
    "ax_right.set_xlabel('w')\n",
    "ax_right.set_ylabel('c')\n",
    "ax_right.grid(True)"
   ]
  },
  {
   "cell_type": "markdown",
   "metadata": {},
   "source": [
    "## Question 3"
   ]
  },
  {
   "cell_type": "markdown",
   "metadata": {},
   "source": [
    "Now we run the utility function for 10.000 individuals with a uniform wage distribution between 0.5 and 1.5, where the elasticity of labor supply is 0.3. This gives us a total tax revenue of 2000.7."
   ]
  },
  {
   "cell_type": "code",
   "execution_count": 28,
   "metadata": {},
   "outputs": [
    {
     "name": "stdout",
     "output_type": "stream",
     "text": [
      "Total tax revenue = 2000.722\n"
     ]
    }
   ],
   "source": [
    "# Drawing a random number\n",
    "np.random.seed(117)\n",
    "c_i = []\n",
    "l_i = []\n",
    "w_i = []\n",
    "\n",
    "# Drawing a random wage for each i in the population with 10.000 individuals\n",
    "for i in range(10000):\n",
    "    w = np.random.uniform(low=0.5,high=1.5)\n",
    "\n",
    "    sol_case1 = optimize.minimize_scalar(value_of_choice,\n",
    "    method='bounded',\n",
    "    bounds=(0,1),args=(v,e))\n",
    "\n",
    "    w_i.append(w)\n",
    "    l_i.append(sol_case1.x)\n",
    "    c_i.append(c_star(sol_case1.x,w,m,t0,t1,k))\n",
    "\n",
    "def tax_func(c,l,w,t0,t1,k):\n",
    "    return t0*w*l+t1*np.max(w*l-k,0)\n",
    "\n",
    "tax = 0\n",
    "for i in range(10000):\n",
    "    tax += tax_func(w_i[i],l_i[i],c_i[i],t0,t1,k)\n",
    "print(f'Total tax revenue = {tax:.3f}')"
   ]
  },
  {
   "cell_type": "markdown",
   "metadata": {},
   "source": [
    "## Question 4"
   ]
  },
  {
   "cell_type": "markdown",
   "metadata": {},
   "source": [
    "We do the same as in Question 3 with a lower elasticity of labor supply being 0.1. This gives a higher tax revenue of 4608.3. "
   ]
  },
  {
   "cell_type": "code",
   "execution_count": 29,
   "metadata": {},
   "outputs": [
    {
     "name": "stdout",
     "output_type": "stream",
     "text": [
      "New total tax revenue = 4608.280\n"
     ]
    }
   ],
   "source": [
    "# Defining the new elasticity of labor supply\n",
    "e_new = 0.1\n",
    "\n",
    "# Defining new functions\n",
    "def u_star_new(c,l,v,e_new):\n",
    "    return np.log(c)-v*l**(1+1/e_new)/(1+1/e_new)\n",
    "\n",
    "def value_of_choice_new(l,v,e_new):\n",
    "    c = c_star(w,l,m,t0,t1,k)\n",
    "    return -u_star_new(c,l,v,e_new)\n",
    "\n",
    "sol_case2 = optimize.minimize_scalar(\n",
    "    value_of_choice_new,method='bounded',\n",
    "    bounds=(0,1),args=(v,e_new))\n",
    "\n",
    "# Drawing a random number\n",
    "np.random.seed(117)\n",
    "c_i_new = []\n",
    "l_i_new = []\n",
    "w_i_new = []\n",
    "\n",
    "# Drawing a random wage for each i in the population with 10.000 individuals\n",
    "for i in range(10000):\n",
    "    w = np.random.uniform(low=0.5,high=1.5)\n",
    "\n",
    "    sol_case2 = optimize.minimize_scalar(value_of_choice_new,\n",
    "    method='bounded',\n",
    "    bounds=(0,1),args=(v,e_new))\n",
    "\n",
    "    w_i_new.append(w)\n",
    "    l_i_new.append(sol_case2.x)\n",
    "    c_i_new.append(c_star(sol_case2.x,w,m,t0,t1,k))\n",
    "\n",
    "def tax_func_new(c,l,w,t0,t1,k):\n",
    "    return t0*w*l+t1*np.max(w*l-k,0)\n",
    "\n",
    "tax_new = 0\n",
    "for i in range(10000):\n",
    "    tax_new += tax_func_new(w_i_new[i],l_i_new[i],c_i_new[i],t0,t1,k)\n",
    "print(f'New total tax revenue = {tax_new:.3f}')"
   ]
  },
  {
   "cell_type": "markdown",
   "metadata": {},
   "source": [
    "## Question 5"
   ]
  },
  {
   "cell_type": "markdown",
   "metadata": {},
   "source": [
    "Because of the Laffer curve we expect a maximum level of tax revenue for both of the income taxes. The tax revenue will rise with a higher tax until a certain point where the tax revenue will fall again if the tax is raised further. \n",
    "\n",
    "If we plot different values of t0 in Question 3, we find the Laffer curve. This is shown in the figure below, where the optimal level of the standard income tax is around 0.75."
   ]
  },
  {
   "cell_type": "code",
   "execution_count": 73,
   "metadata": {},
   "outputs": [
    {
     "data": {
      "image/png": "[encoded data removed]",
      "text/plain": [
       "<Figure size 720x288 with 1 Axes>"
      ]
     },
     "metadata": {},
     "output_type": "display_data"
    }
   ],
   "source": [
    "t0 = [0.0,0.1,0.2,0.3,0.4,0.5,0.6,0.7,0.8,0.9,1.0]\n",
    "tax0 = [873.4,2012.5,3016.0,3882.3,4608.3,5188.5,5612.1,5854.6,5837.1,4001.2,0.0]\n",
    "\n",
    "plt.style.use(\"seaborn\")\n",
    "\n",
    "# Creating the figure\n",
    "fig = plt.figure(figsize=(10,4))\n",
    "\n",
    "# The left plot\n",
    "ax_left = fig.add_subplot(1,2,1)\n",
    "\n",
    "ax_left.plot(t0,tax)\n",
    "\n",
    "ax_left.set_title('Optimal level of t0')\n",
    "ax_left.set_xlabel('t0')\n",
    "ax_left.set_ylabel('tax0')\n",
    "ax_left.grid(True)"
   ]
  }
 ],
 "metadata": {
  "kernelspec": {
   "display_name": "Python 3",
   "language": "python",
   "name": "python3"
  },
  "language_info": {
   "codemirror_mode": {
    "name": "ipython",
    "version": 3
   },
   "file_extension": ".py",
   "mimetype": "text/x-python",
   "name": "python",
   "nbconvert_exporter": "python",
   "pygments_lexer": "ipython3",
   "version": "3.7.4"
  },
  "toc-autonumbering": true
 },
 "nbformat": 4,
 "nbformat_minor": 4
}
